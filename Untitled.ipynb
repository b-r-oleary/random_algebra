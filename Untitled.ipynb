{
 "cells": [
  {
   "cell_type": "code",
   "execution_count": null,
   "metadata": {
    "collapsed": true
   },
   "outputs": [],
   "source": [
    "norm = lambda n, m: quad(lambda x: harmonic_oscillator(n)(x) * harmonic_oscillator(m)(x), -np.inf, np.inf)[0]\n",
    "\n",
    "def get_hermite_gauss_coef(dist, n):\n",
    "    mean = dist.mean()\n",
    "    std  = dist.std()\n",
    "    return quad(lambda x: dist.pdf(x) * harmonic_oscillator(n)((x - mean)/std), dist.a, dist.b)[0]\n",
    "\n",
    "def get_expansion(coef):\n",
    "    return lambda x: sum([\n",
    "            c * harmonic_oscillator(n)(x) for n, c in enumerate(coef)\n",
    "            ])\n",
    "\n"
   ]
  },
  {
   "cell_type": "code",
   "execution_count": 16,
   "metadata": {
    "collapsed": true
   },
   "outputs": [],
   "source": [
    "from scipy.stats._distn_infrastructure import rv_continuous, rv_frozen\n",
    "from scipy.stats import beta\n",
    "from scipy.special import binom as binom_coef\n",
    "from scipy.integrate import quad\n",
    "import numpy as np\n",
    "\n",
    "def __mul__(self, other):\n",
    "    if isinstance(other, bool):\n",
    "         return self\n",
    "        \n",
    "setattr(rv_frozen, \"__mul__\", __mul__)"
   ]
  },
  {
   "cell_type": "code",
   "execution_count": 17,
   "metadata": {
    "collapsed": true
   },
   "outputs": [],
   "source": [
    "def extract_first(*args):\n",
    "    outputs = []\n",
    "    for arg in args:\n",
    "        if isinstance(arg, np.ndarray):\n",
    "            output = np.atleast_1d(arg)[0]\n",
    "        else:\n",
    "            output = arg\n",
    "        outputs.append(output)\n",
    "    return tuple(outputs)\n",
    "\n",
    "class scale_gen(rv_continuous):\n",
    "\n",
    "    def _pdf(self, x, dist, factor):\n",
    "        dist, factor = extract_first(dist, factor)\n",
    "        return dist.pdf(x/factor)/np.abs(factor)\n",
    "    \n",
    "scale = scale_gen(name=\"scale\")"
   ]
  },
  {
   "cell_type": "code",
   "execution_count": 18,
   "metadata": {
    "collapsed": false
   },
   "outputs": [],
   "source": [
    "a = beta(4, 10)\n",
    "c = scale(a, .5)"
   ]
  },
  {
   "cell_type": "code",
   "execution_count": 23,
   "metadata": {
    "collapsed": false
   },
   "outputs": [],
   "source": [
    "y = c.pdf(np.linspace(0, 1, 100))"
   ]
  },
  {
   "cell_type": "code",
   "execution_count": 24,
   "metadata": {
    "collapsed": true
   },
   "outputs": [],
   "source": [
    "%matplotlib inline\n",
    "import matplotlib.pyplot as plt"
   ]
  },
  {
   "cell_type": "code",
   "execution_count": 7,
   "metadata": {
    "collapsed": true
   },
   "outputs": [],
   "source": [
    "\n",
    "\n",
    "def extract_first(*args):\n",
    "    outputs = []\n",
    "    for arg in args:\n",
    "        if isinstance(arg, np.ndarray):\n",
    "            output = np.atleast_1d(arg)[0]\n",
    "        else:\n",
    "            output = arg\n",
    "        outputs.append(output)\n",
    "    return tuple(outputs)\n",
    "\n",
    "class scale_gen(rv_continuous):\n",
    "    \n",
    "    def _pdf(self, x, dist, factor):\n",
    "        print dist, factor, 'pdf pre'\n",
    "        dist, factor = extract_first(dist, factor)\n",
    "        print dist, factor, 'pdf post'\n",
    "        return dist.pdf(x/factor)/np.abs(factor)\n",
    "    \n",
    "    def _cdf(self, x, dist, factor):\n",
    "        dist, factor = extract_first(dist, factor)\n",
    "        output = dist.cdf(x/factor)\n",
    "        if np.sign(factor) == -1:\n",
    "            return 1 - output\n",
    "        else:\n",
    "            return output\n",
    "    \n",
    "    def _rvs(self, dist, factor):\n",
    "        dist, factor = extract_first(dist, factor)\n",
    "        return dist.rvs(size=self._size) * factor\n",
    "    \n",
    "    def _munp(self, n, dist, factor):\n",
    "        dist, factor = extract_first(dist, factor)\n",
    "        return dist.moment(n) * (factor ** n)\n",
    "    \n",
    "    def _entropy(self, dist, factor):\n",
    "        dist, factor = extract_first(dist, factor)\n",
    "        return dist.entropy() + np.log(factor)\n",
    "    \n",
    "    def _argcheck(self, dist, factor):\n",
    "        print dist, factor, \"argcheck pre\"\n",
    "        dist, factor = extract_first(dist, factor)\n",
    "        print dist, factor, \"argcheck post\"\n",
    "        conditions = [\n",
    "            isinstance(dist, rv_frozen),\n",
    "            isinstance(factor, (int, float)),\n",
    "            factor != 0,\n",
    "        ]\n",
    "        print conditions\n",
    "        return all(conditions)\n",
    "    \n",
    "scale = scale_gen(name=\"scale\")\n",
    "\n",
    "\n",
    "class offset_gen(rv_continuous):\n",
    "    \n",
    "    def _pdf(self, x, dist, offset):\n",
    "        dist, offset = extract_first(dist, offset)\n",
    "        return dist.pdf(x - offset)\n",
    "    \n",
    "    def _cdf(self, x, dist, offset):\n",
    "        dist, offset = extract_first(dist, offset)\n",
    "        return dist.cdf(x - offset)\n",
    "    \n",
    "    def _rvs(self, dist, offset):\n",
    "        dist, offset = extract_first(dist, offset)\n",
    "        return dist.rvs(size=self._size) + offset\n",
    "    \n",
    "    def _munp(self, n, dist, offset):\n",
    "        dist, offset = extract_first(dist, offset)\n",
    "        moment = 0\n",
    "        for k in range(n + 1):\n",
    "            m_k = dist.moment(n)\n",
    "            moment += binom_coef(n, k) * (m_k ** k) * (offset ** (n - k))\n",
    "        return moment\n",
    "    \n",
    "    def _entropy(self, dist, offset):\n",
    "        dist, offset = extract_first(dist, offset)\n",
    "        return dist.entropy()\n",
    "    \n",
    "    def _argcheck(self, dist, offset):\n",
    "        dist, offset = extract_first(dist, offset)\n",
    "        conditions = [\n",
    "            isinstance(dist, rv_frozen),\n",
    "            isinstance(offset, (int, float)),\n",
    "            offset != 0,\n",
    "        ]\n",
    "        return all(conditions)\n",
    "    \n",
    "offset = offset_gen(name=\"offset\")\n",
    "\n",
    "class add_gen(rv_continuous):\n",
    "    \n",
    "    def _pdf(self, x, dist0, dist1):\n",
    "        dist0, dist1 = extract_first(dist0, dist1)\n",
    "        print dist0, dist1\n",
    "        print x\n",
    "        pdf_integrand = lambda y, z: dist0.pdf(z - y) * dist1.pdf(y)\n",
    "        pdf = np.vectorize(\n",
    "                lambda z: quad(pdf_integrand, dist1.a, dist1.b, args=(z,))[0]\n",
    "              )\n",
    "        print dist1.a, dist1.b\n",
    "        return pdf(x)\n",
    "    \n",
    "    def _cdf(self, x, dist0, dist1):\n",
    "        dist0, dist1 = extract_first(dist0, dist1)\n",
    "        cdf_integrand = lambda y, z: dist0.cdf(z - y) * dist1.pdf(y)\n",
    "        cdf = np.vectorize(\n",
    "                lambda z: quad(cdf_integrand, dist1.a, dist1.b, args=(z,))[0]\n",
    "              )\n",
    "        return cdf(x)\n",
    "    \n",
    "    def _rvs(self, dist0, dist1):\n",
    "        dist0, dist1 = extract_first(dist0, dist1)\n",
    "        return dist0.rvs(size=self._size) + dist1.rvs(size=self._size)\n",
    "    \n",
    "    def _munp(self, n, dist0, dist1):\n",
    "        dist0, dist1 = extract_first(dist0, dist1)\n",
    "        moment = 0\n",
    "        for k in range(n + 1):\n",
    "            x = dist0.moment(k)\n",
    "            y = dist1.moment(n - k)\n",
    "            moment += binom_coef(n, k) * x * y\n",
    "        return moment\n",
    "    \n",
    "    def _argcheck(self, dist0, dist1):\n",
    "        dist0, dist1 = extract_first(dist0, dist1)\n",
    "        conditions = [\n",
    "            isinstance(dist0, rv_frozen),\n",
    "            isinstance(dist1, rv_frozen)\n",
    "        ]\n",
    "        return all(conditions)\n",
    "    \n",
    "add = add_gen(name=\"add\")\n",
    "\n",
    "\n",
    "class posterior_gen(rv_continuous):\n",
    "    \n",
    "    def _pdf(self, x, likelihood, prior):\n",
    "        likelihood, prior = extract_first(likelihood, prior)\n",
    "        output = likelihood.pdf(x) * prior.pdf(x) / self.__get_norm(likelihood, prior)\n",
    "        return output\n",
    "    \n",
    "    def _rvs(self, likelihood, prior, factor=30):\n",
    "        likelihood, prior = extract_first(likelihood, prior)\n",
    "        \n",
    "        size = tuple(self._size)\n",
    "        N = np.prod(size)\n",
    "        \n",
    "        items = prior.rvs(size= N * factor)\n",
    "        prob  = likelihood.pdf(items)\n",
    "        prob  = prob/sum(prob)\n",
    "        \n",
    "        return np.random.choice(items, N, p=prob).reshape(size)\n",
    "    \n",
    "    def _munp(self, n, likelihood, prior):\n",
    "        likelihood, prior = extract_first(likelihood, prior)\n",
    "        self.__get_norm(likelihood, prior)\n",
    "        return quad(lambda x: x**n * self._pdf(x, likelihood, prior), self.a, self.b)[0]\n",
    "\n",
    "## this is redudant given _munp \n",
    "#     def _stats(self, likelihood, prior):\n",
    "#         moments = []\n",
    "#         for n in range(1, 4 + 1):\n",
    "#             moments.append(self._munp(n, likelihood, prior))\n",
    "            \n",
    "#         mu  = moments[0]\n",
    "#         mu2 = moments[1] - moments[0]**2\n",
    "#         mu3 = moments[2] - 3 * moments[1] * moments[0] + 2 * moments[0]**3\n",
    "#         mu4 = moments[3] - 4 * moments[2] * moments[0] + 6 * moments[1] * moments[0]**2 - 3 * moments[0]**4\n",
    "        \n",
    "#         g1 = mu3 / mu2**(3 / 2)\n",
    "#         g2 = mu4 / mu2**2\n",
    "        \n",
    "#         return mu, mu2, g1, g2\n",
    "    \n",
    "    def _argcheck(self, likelihood, prior):\n",
    "        likelihood, prior = extract_first(likelihood, prior)\n",
    "        conditions = [\n",
    "            isinstance(likelihood, rv_frozen),\n",
    "            isinstance(prior,      rv_frozen),\n",
    "        ]\n",
    "        return all(conditions)\n",
    "    \n",
    "    def __get_norm(self, likelihood, prior):\n",
    "        object_hash = hash(likelihood) * hash(prior)\n",
    "        if hasattr(self, \"__norm\"):\n",
    "            if object_hash == self.__object_hash:\n",
    "                return self.__norm\n",
    "            \n",
    "        self.a = max([likelihood.a, prior.a])\n",
    "        self.b = min([likelihood.b, prior.b])\n",
    "        \n",
    "        self.__norm = quad(lambda x: likelihood.pdf(x) * prior.pdf(x), self.a, self.b)[0]\n",
    "        self.__object_hash = object_hash\n",
    "        return self.__norm\n",
    "    \n",
    "posterior = posterior_gen(name=\"posterior\")"
   ]
  },
  {
   "cell_type": "code",
   "execution_count": 2,
   "metadata": {
    "collapsed": false
   },
   "outputs": [],
   "source": [
    "from scipy.stats import beta"
   ]
  },
  {
   "cell_type": "code",
   "execution_count": 5,
   "metadata": {
    "collapsed": false
   },
   "outputs": [],
   "source": [
    "a = beta(10, 4)"
   ]
  },
  {
   "cell_type": "code",
   "execution_count": 6,
   "metadata": {
    "collapsed": false
   },
   "outputs": [
    {
     "name": "stdout",
     "output_type": "stream",
     "text": [
      "<scipy.stats._distn_infrastructure.rv_frozen object at 0x7f31c85ad8d0> 0.5 argcheck pre\n",
      "<scipy.stats._distn_infrastructure.rv_frozen object at 0x7f31c85ad8d0> 0.5 argcheck post\n",
      "[True, True, True]\n"
     ]
    }
   ],
   "source": [
    "a = beta(10, 4)\n",
    "c = scale(a, .5)"
   ]
  },
  {
   "cell_type": "code",
   "execution_count": 22,
   "metadata": {
    "collapsed": false
   },
   "outputs": [
    {
     "name": "stdout",
     "output_type": "stream",
     "text": [
      "<scipy.stats._distn_infrastructure.rv_frozen object at 0x7fd16076b950> 0.5 argcheck pre\n",
      "<scipy.stats._distn_infrastructure.rv_frozen object at 0x7fd16076b950> 0.5 argcheck post\n",
      "[True, True, True]\n"
     ]
    },
    {
     "ename": "TypeError",
     "evalue": "unsupported operand type(s) for *: 'rv_frozen' and 'bool'",
     "output_type": "error",
     "traceback": [
      "\u001b[1;31m---------------------------------------------------------------------------\u001b[0m",
      "\u001b[1;31mTypeError\u001b[0m                                 Traceback (most recent call last)",
      "\u001b[1;32m<ipython-input-22-096a63322d0d>\u001b[0m in \u001b[0;36m<module>\u001b[1;34m()\u001b[0m\n\u001b[1;32m----> 1\u001b[1;33m \u001b[0mc\u001b[0m\u001b[1;33m.\u001b[0m\u001b[0mdist\u001b[0m\u001b[1;33m.\u001b[0m\u001b[0mpdf\u001b[0m\u001b[1;33m(\u001b[0m\u001b[1;36m.5\u001b[0m\u001b[1;33m,\u001b[0m \u001b[0ma\u001b[0m\u001b[1;33m,\u001b[0m \u001b[1;36m.5\u001b[0m\u001b[1;33m)\u001b[0m\u001b[1;33m\u001b[0m\u001b[0m\n\u001b[0m",
      "\u001b[1;32m/home/brendon/anaconda2/envs/py27/lib/python2.7/site-packages/scipy/stats/_distn_infrastructure.pyc\u001b[0m in \u001b[0;36mpdf\u001b[1;34m(self, x, *args, **kwds)\u001b[0m\n\u001b[0;32m   1650\u001b[0m         \u001b[0mputmask\u001b[0m\u001b[1;33m(\u001b[0m\u001b[0moutput\u001b[0m\u001b[1;33m,\u001b[0m \u001b[1;33m(\u001b[0m\u001b[1;36m1\u001b[0m\u001b[1;33m-\u001b[0m\u001b[0mcond0\u001b[0m\u001b[1;33m)\u001b[0m\u001b[1;33m+\u001b[0m\u001b[0mnp\u001b[0m\u001b[1;33m.\u001b[0m\u001b[0misnan\u001b[0m\u001b[1;33m(\u001b[0m\u001b[0mx\u001b[0m\u001b[1;33m)\u001b[0m\u001b[1;33m,\u001b[0m \u001b[0mself\u001b[0m\u001b[1;33m.\u001b[0m\u001b[0mbadvalue\u001b[0m\u001b[1;33m)\u001b[0m\u001b[1;33m\u001b[0m\u001b[0m\n\u001b[0;32m   1651\u001b[0m         \u001b[1;32mif\u001b[0m \u001b[0mnp\u001b[0m\u001b[1;33m.\u001b[0m\u001b[0many\u001b[0m\u001b[1;33m(\u001b[0m\u001b[0mcond\u001b[0m\u001b[1;33m)\u001b[0m\u001b[1;33m:\u001b[0m\u001b[1;33m\u001b[0m\u001b[0m\n\u001b[1;32m-> 1652\u001b[1;33m             \u001b[0mgoodargs\u001b[0m \u001b[1;33m=\u001b[0m \u001b[0margsreduce\u001b[0m\u001b[1;33m(\u001b[0m\u001b[0mcond\u001b[0m\u001b[1;33m,\u001b[0m \u001b[1;33m*\u001b[0m\u001b[1;33m(\u001b[0m\u001b[1;33m(\u001b[0m\u001b[0mx\u001b[0m\u001b[1;33m,\u001b[0m\u001b[1;33m)\u001b[0m\u001b[1;33m+\u001b[0m\u001b[0margs\u001b[0m\u001b[1;33m+\u001b[0m\u001b[1;33m(\u001b[0m\u001b[0mscale\u001b[0m\u001b[1;33m,\u001b[0m\u001b[1;33m)\u001b[0m\u001b[1;33m)\u001b[0m\u001b[1;33m)\u001b[0m\u001b[1;33m\u001b[0m\u001b[0m\n\u001b[0m\u001b[0;32m   1653\u001b[0m             \u001b[0mscale\u001b[0m\u001b[1;33m,\u001b[0m \u001b[0mgoodargs\u001b[0m \u001b[1;33m=\u001b[0m \u001b[0mgoodargs\u001b[0m\u001b[1;33m[\u001b[0m\u001b[1;33m-\u001b[0m\u001b[1;36m1\u001b[0m\u001b[1;33m]\u001b[0m\u001b[1;33m,\u001b[0m \u001b[0mgoodargs\u001b[0m\u001b[1;33m[\u001b[0m\u001b[1;33m:\u001b[0m\u001b[1;33m-\u001b[0m\u001b[1;36m1\u001b[0m\u001b[1;33m]\u001b[0m\u001b[1;33m\u001b[0m\u001b[0m\n\u001b[0;32m   1654\u001b[0m             \u001b[0mplace\u001b[0m\u001b[1;33m(\u001b[0m\u001b[0moutput\u001b[0m\u001b[1;33m,\u001b[0m \u001b[0mcond\u001b[0m\u001b[1;33m,\u001b[0m \u001b[0mself\u001b[0m\u001b[1;33m.\u001b[0m\u001b[0m_pdf\u001b[0m\u001b[1;33m(\u001b[0m\u001b[1;33m*\u001b[0m\u001b[0mgoodargs\u001b[0m\u001b[1;33m)\u001b[0m \u001b[1;33m/\u001b[0m \u001b[0mscale\u001b[0m\u001b[1;33m)\u001b[0m\u001b[1;33m\u001b[0m\u001b[0m\n",
      "\u001b[1;32m/home/brendon/anaconda2/envs/py27/lib/python2.7/site-packages/scipy/stats/_distn_infrastructure.pyc\u001b[0m in \u001b[0;36margsreduce\u001b[1;34m(cond, *args)\u001b[0m\n\u001b[0;32m    543\u001b[0m         \u001b[0mnewargs\u001b[0m \u001b[1;33m=\u001b[0m \u001b[1;33m[\u001b[0m\u001b[0mnewargs\u001b[0m\u001b[1;33m,\u001b[0m \u001b[1;33m]\u001b[0m\u001b[1;33m\u001b[0m\u001b[0m\n\u001b[0;32m    544\u001b[0m     \u001b[0mexpand_arr\u001b[0m \u001b[1;33m=\u001b[0m \u001b[1;33m(\u001b[0m\u001b[0mcond\u001b[0m \u001b[1;33m==\u001b[0m \u001b[0mcond\u001b[0m\u001b[1;33m)\u001b[0m\u001b[1;33m\u001b[0m\u001b[0m\n\u001b[1;32m--> 545\u001b[1;33m     \u001b[1;32mreturn\u001b[0m \u001b[1;33m[\u001b[0m\u001b[0mnp\u001b[0m\u001b[1;33m.\u001b[0m\u001b[0mextract\u001b[0m\u001b[1;33m(\u001b[0m\u001b[0mcond\u001b[0m\u001b[1;33m,\u001b[0m \u001b[0marr1\u001b[0m \u001b[1;33m*\u001b[0m \u001b[0mexpand_arr\u001b[0m\u001b[1;33m)\u001b[0m \u001b[1;32mfor\u001b[0m \u001b[0marr1\u001b[0m \u001b[1;32min\u001b[0m \u001b[0mnewargs\u001b[0m\u001b[1;33m]\u001b[0m\u001b[1;33m\u001b[0m\u001b[0m\n\u001b[0m\u001b[0;32m    546\u001b[0m \u001b[1;33m\u001b[0m\u001b[0m\n\u001b[0;32m    547\u001b[0m \u001b[1;33m\u001b[0m\u001b[0m\n",
      "\u001b[1;31mTypeError\u001b[0m: unsupported operand type(s) for *: 'rv_frozen' and 'bool'"
     ]
    }
   ],
   "source": [
    "c.dist.pdf(.5, a, .5)"
   ]
  },
  {
   "cell_type": "code",
   "execution_count": null,
   "metadata": {
    "collapsed": true
   },
   "outputs": [],
   "source": [
    "import matplotlib.pyplot as plt\n",
    "import numpy as np\n",
    "\n",
    "x = np.linspace(0, 2 * np.pi, 100)\n",
    "y = np.sin(x)\n",
    "\n",
    "plt.plot(x, y)"
   ]
  }
 ],
 "metadata": {
  "kernelspec": {
   "display_name": "Python 2",
   "language": "python",
   "name": "python2"
  },
  "language_info": {
   "codemirror_mode": {
    "name": "ipython",
    "version": 2
   },
   "file_extension": ".py",
   "mimetype": "text/x-python",
   "name": "python",
   "nbconvert_exporter": "python",
   "pygments_lexer": "ipython2",
   "version": "2.7.13"
  }
 },
 "nbformat": 4,
 "nbformat_minor": 0
}
